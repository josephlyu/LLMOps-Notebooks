{
  "cells": [
    {
      "cell_type": "markdown",
      "metadata": {
        "id": "w1h0h7VO_44z"
      },
      "source": [
        "## Customer Support Chatbot: AI-Powered Librarian\n",
        "\n",
        "In this section, we demonstrate how to build a customer support chatbot."
      ]
    },
    {
      "cell_type": "code",
      "execution_count": null,
      "metadata": {
        "id": "qPGgIGS4_98t"
      },
      "outputs": [],
      "source": [
        "! pip install openai==0.28 comet-llm --quiet"
      ]
    },
    {
      "cell_type": "code",
      "execution_count": 1,
      "metadata": {
        "id": "yUQhjWGL_441"
      },
      "outputs": [
        {
          "name": "stderr",
          "output_type": "stream",
          "text": [
            "\u001b[1;38;5;39mCOMET INFO:\u001b[0m Valid Comet API Key saved in /Users/josephlyu/.comet.config (set COMET_CONFIG to change where it is saved).\n"
          ]
        }
      ],
      "source": [
        "# libraries\n",
        "import openai\n",
        "import os\n",
        "import IPython\n",
        "import comet_llm\n",
        "from comet_llm import Span, end_chain, start_chain\n",
        "\n",
        "# API configuration\n",
        "openai.api_key = os.getenv(\"OPENAI_API_KEY\")\n",
        "\n",
        "COMET_WORKSPACE = os.getenv(\"COMET_WORKSPACE\")\n",
        "COMET_API_KEY = os.getenv(\"COMET_API_KEY\")\n",
        "\n",
        "comet_llm.init(project=\"book-chatbot-evaluation\", api_key=COMET_API_KEY)"
      ]
    },
    {
      "cell_type": "markdown",
      "metadata": {
        "id": "moEjAz9H_441"
      },
      "source": [
        "Here is a helper function to load the results from the OpenAI APIs:"
      ]
    },
    {
      "cell_type": "code",
      "execution_count": 2,
      "metadata": {
        "id": "sj0fYjro_442"
      },
      "outputs": [],
      "source": [
        "def get_completion(messages, model=\"gpt-3.5-turbo\", temperature=0, max_tokens=300):\n",
        "    response = openai.ChatCompletion.create(\n",
        "        model=model,\n",
        "        messages=messages,\n",
        "        temperature=temperature,\n",
        "        max_tokens=max_tokens,\n",
        "    )\n",
        "    return response.choices[0].message[\"content\"]"
      ]
    },
    {
      "cell_type": "markdown",
      "metadata": {
        "id": "ZAWwUk0U_442"
      },
      "source": [
        "The following is a list of books which will be added as context in the prompt design in the next step:"
      ]
    },
    {
      "cell_type": "code",
      "execution_count": 3,
      "metadata": {
        "id": "zkYEmYLP_442"
      },
      "outputs": [],
      "source": [
        "books = \"\"\"\n",
        "Category: Children's Books\n",
        "Book Title: The Little Blue Engine\n",
        "Price: $6.99\n",
        "Illustrated: Y\n",
        "Popularity: 4/5\n",
        "Summary: A brave little train takes on a challenging journey, teaching children about perseverance and self-belief.\n",
        "\n",
        "Category: Mystery Novels\n",
        "Book Title: Shadows Over Elm Street\n",
        "Price: $8.99\n",
        "Illustrated: N\n",
        "Popularity: 3/5\n",
        "Summary: A detective follows mysterious clues leading to a dark secret buried in a small town.\n",
        "\n",
        "Category: Mystery Novels\n",
        "Book Title: The Venetian Masquerade\n",
        "Price: $7.99\n",
        "Illustrated: N\n",
        "Popularity: 4/5\n",
        "Summary: In the heart of Venice, a masked ball turns to mayhem, and one detective must unmask the truth.\n",
        "\n",
        "Category: Romance Novels\n",
        "Book Title: Moonlit Whispers\n",
        "Price: $12.99\n",
        "Illustrated: N\n",
        "Popularity: 4/5\n",
        "Summary: Two strangers, one chance meeting, and a romance that transcends lifetimes.\n",
        "\n",
        "Category: Romance Novels\n",
        "Book Title: The Cafe by the Sea\n",
        "Price: $10.99\n",
        "Illustrated: N\n",
        "Popularity: 5/5\n",
        "Summary: A city girl finds love and rediscovery in a small coastal town, along with the charms of local life.\n",
        "\n",
        "Category: Romance Novels\n",
        "Book Title: Heartstrings in Tuscany\n",
        "Price: $14.99\n",
        "Illustrated: N\n",
        "Popularity: 4/5\n",
        "Summary: An unexpected journey to Italy leads to a summer of romance, secrets, and vineyard nights.\n",
        "\n",
        "Category: Science Fiction\n",
        "Book Title: Nebula's Edge\n",
        "Price: $9.99\n",
        "Illustrated: N\n",
        "Popularity: 3/5\n",
        "Summary: In a galaxy on the brink of war, one spaceship captain must navigate politics, love, and space pirates.\n",
        "\n",
        "Category: Science Fiction\n",
        "Book Title: Beyond Earth's Echo\n",
        "Price: $11.99\n",
        "Illustrated: Y\n",
        "Popularity: 4/5\n",
        "Summary: Humanity ventures to a new planet, only to find traces of a long-lost alien civilization.\n",
        "\n",
        "Category: Poetry Collections\n",
        "Book Title: Echoes of Midnight\n",
        "Price: $6.99\n",
        "Illustrated: N\n",
        "Popularity: 5/5\n",
        "Summary: A captivating collection of poems about love, loss, and the nuances of the human soul.\n",
        "\n",
        "Category: Poetry Collections\n",
        "Book Title: Sunflowers & Daydreams\n",
        "Price: $5.99\n",
        "Illustrated: Y\n",
        "Popularity: 4/5\n",
        "Summary: Vibrant verses celebrating nature, life's simple joys, and moments of quiet reflection.\n",
        "\"\"\""
      ]
    },
    {
      "cell_type": "markdown",
      "metadata": {
        "id": "JJy00fng_443"
      },
      "source": [
        "There are questions which we will use to test the chatbot:"
      ]
    },
    {
      "cell_type": "code",
      "execution_count": 4,
      "metadata": {
        "id": "bqcpXmPo_443"
      },
      "outputs": [],
      "source": [
        "questions = [\n",
        "    \"Do you have science fiction books?\",\n",
        "    \"Do you have any illustrated book options?\",\n",
        "    \"How many different kinds of science fiction books do you have?\",\n",
        "    \"What's the price for the Harry Potter book?\",\n",
        "    \"What are the two most popular books?\",\n",
        "    \"Do you have any books under $7?\",\n",
        "    \"Does any of your science fiction books contain alien characters?\"\n",
        "]"
      ]
    },
    {
      "cell_type": "markdown",
      "metadata": {
        "id": "wptmOeit_443"
      },
      "source": [
        "The code below both retrieves an entire response (via chain-of-thought) and then extracts the final response based on the question asked by the user. For every question, it logs the results from the CoT and the final response using Comet's prompt chains logging functionalities. Please reference the corresponding video lecture for the full code explanation."
      ]
    },
    {
      "cell_type": "code",
      "execution_count": 5,
      "metadata": {
        "id": "oakXGsXF_443",
        "outputId": "211b2e89-e17c-41f4-8213-3e2fd886702c"
      },
      "outputs": [],
      "source": [
        "chatbot_responses = []\n",
        "\n",
        "# return the final response to the user\n",
        "def get_only_response(response):\n",
        "  messages = [\n",
        "    {\n",
        "      \"role\": \"system\",\n",
        "      \"content\": \"Your task is to extract only the response to the user in the following full chatbot response: {response}\".format(response=response)\n",
        "    }\n",
        "  ]\n",
        "\n",
        "  return get_completion(messages)\n",
        "\n",
        "# loop through the questions and try to answer them using a chain-of-thought prompt\n",
        "for question in questions:\n",
        "  messages=[\n",
        "    {\n",
        "      \"role\": \"system\",\n",
        "      \"content\": \"Your task is to answer questions factually about a book catalogue, provided below and delimited by +++++. The user request is provided here: {request}\\n\\nStep 1: The first step is to check if the user is asking a question related to any type of book (even if that book item is not on the list). If the question is about any type of food, we move on to Step 2 and ignore the rest of Step 1. If the question is not about book, then you send a response: \\\"Sorry! I cannot help with that. Please let me know if you have a question about our book catalogue.\\\"\\n\\nStep 2: In this step, you check that the user question is relevant to any of the items on the book catalogue. You should check that the book item exists in the book catalogue. If it doesn't exist then send a kind response to the user that the item doesn't exist in the catalogue and then include a list of available but similar book items without any other details (e.g., price). The book items available are provided below and delimited by +++++: {book_titles}+++++\\n\\nStep 3: If the item exists in the book catalogue and the user is requesting specific information, provide that relevant information to the user using the book catalogue. Make sure to use a friendly tone and keep the response concise.\\n\\nPerform the following reasoning steps to send a response to the user:\\nStep 1: <Step 1 reasoning>\\nStep 2: <Step 2 reasoning>\\nResponse to the user (only output the final response): <response to user>\".format(request=question, book_titles=books)\n",
        "    }\n",
        "  ]\n",
        "\n",
        "  # get the full response\n",
        "  response = get_completion(messages)\n",
        "\n",
        "  # save responses\n",
        "  chatbot_responses.append(response)\n",
        "\n",
        "  # start chain\n",
        "  start_chain(\n",
        "    inputs={\"question\": question},\n",
        "    api_key=COMET_API_KEY,\n",
        "  )\n",
        "\n",
        "  # store full response\n",
        "  with Span(\n",
        "    category=\"reasoning\",\n",
        "    name=\"chain-of-thought\",\n",
        "    inputs={\"user_question\": question},\n",
        "    ) as span:\n",
        "      span.set_outputs(outputs={\"full_response\": response})\n",
        "\n",
        "  # end chain with the end response after processing it\n",
        "  with Span(\n",
        "    category=\"response-extraction\",\n",
        "    inputs={\n",
        "        \"user_question\": question,\n",
        "        \"full_response\": response,\n",
        "    },\n",
        "  ) as span:\n",
        "    # process response to take out only the response to the user\n",
        "    final_response = get_only_response(response)\n",
        "\n",
        "    span.set_outputs(outputs={\"final_response\": final_response})\n",
        "\n",
        "  end_chain(outputs={\"final_response\": final_response})\n"
      ]
    },
    {
      "cell_type": "code",
      "execution_count": 12,
      "metadata": {},
      "outputs": [
        {
          "name": "stdout",
          "output_type": "stream",
          "text": [
            "------------------------\n",
            "question: Does any of your science fiction books contain alien characters?\n",
            "------------------------\n",
            "messages: [{'role': 'system', 'content': 'Your task is to answer questions factually about a book catalogue, provided below and delimited by +++++. The user request is provided here: Does any of your science fiction books contain alien characters?\\n\\nStep 1: The first step is to check if the user is asking a question related to any type of book (even if that book item is not on the list). If the question is about any type of food, we move on to Step 2 and ignore the rest of Step 1. If the question is not about book, then you send a response: \"Sorry! I cannot help with that. Please let me know if you have a question about our book catalogue.\"\\n\\nStep 2: In this step, you check that the user question is relevant to any of the items on the book catalogue. You should check that the book item exists in the book catalogue. If it doesn\\'t exist then send a kind response to the user that the item doesn\\'t exist in the catalogue and then include a list of available but similar book items without any other details (e.g., price). The book items available are provided below and delimited by +++++: \\nCategory: Children\\'s Books\\nBook Title: The Little Blue Engine\\nPrice: $6.99\\nIllustrated: Y\\nPopularity: 4/5\\nSummary: A brave little train takes on a challenging journey, teaching children about perseverance and self-belief.\\n\\nCategory: Mystery Novels\\nBook Title: Shadows Over Elm Street\\nPrice: $8.99\\nIllustrated: N\\nPopularity: 3/5\\nSummary: A detective follows mysterious clues leading to a dark secret buried in a small town.\\n\\nCategory: Mystery Novels\\nBook Title: The Venetian Masquerade\\nPrice: $7.99\\nIllustrated: N\\nPopularity: 4/5\\nSummary: In the heart of Venice, a masked ball turns to mayhem, and one detective must unmask the truth.\\n\\nCategory: Romance Novels\\nBook Title: Moonlit Whispers\\nPrice: $12.99\\nIllustrated: N\\nPopularity: 4/5\\nSummary: Two strangers, one chance meeting, and a romance that transcends lifetimes.\\n\\nCategory: Romance Novels\\nBook Title: The Cafe by the Sea\\nPrice: $10.99\\nIllustrated: N\\nPopularity: 5/5\\nSummary: A city girl finds love and rediscovery in a small coastal town, along with the charms of local life.\\n\\nCategory: Romance Novels\\nBook Title: Heartstrings in Tuscany\\nPrice: $14.99\\nIllustrated: N\\nPopularity: 4/5\\nSummary: An unexpected journey to Italy leads to a summer of romance, secrets, and vineyard nights.\\n\\nCategory: Science Fiction\\nBook Title: Nebula\\'s Edge\\nPrice: $9.99\\nIllustrated: N\\nPopularity: 3/5\\nSummary: In a galaxy on the brink of war, one spaceship captain must navigate politics, love, and space pirates.\\n\\nCategory: Science Fiction\\nBook Title: Beyond Earth\\'s Echo\\nPrice: $11.99\\nIllustrated: Y\\nPopularity: 4/5\\nSummary: Humanity ventures to a new planet, only to find traces of a long-lost alien civilization.\\n\\nCategory: Poetry Collections\\nBook Title: Echoes of Midnight\\nPrice: $6.99\\nIllustrated: N\\nPopularity: 5/5\\nSummary: A captivating collection of poems about love, loss, and the nuances of the human soul.\\n\\nCategory: Poetry Collections\\nBook Title: Sunflowers & Daydreams\\nPrice: $5.99\\nIllustrated: Y\\nPopularity: 4/5\\nSummary: Vibrant verses celebrating nature, life\\'s simple joys, and moments of quiet reflection.\\n+++++\\n\\nStep 3: If the item exists in the book catalogue and the user is requesting specific information, provide that relevant information to the user using the book catalogue. Make sure to use a friendly tone and keep the response concise.\\n\\nPerform the following reasoning steps to send a response to the user:\\nStep 1: <Step 1 reasoning>\\nStep 2: <Step 2 reasoning>\\nResponse to the user (only output the final response): <response to user>'}]\n",
            "------------------------\n",
            "response: User request: Does any of your science fiction books contain alien characters?\n",
            "\n",
            "Step 1: The user is asking a question related to books.\n",
            "\n",
            "Step 2: The book catalogue contains the following science fiction books:\n",
            "1. Book Title: Nebula's Edge\n",
            "2. Book Title: Beyond Earth's Echo\n",
            "\n",
            "Response to the user: Yes, the science fiction book \"Beyond Earth's Echo\" from our catalogue contains alien characters.\n",
            "------------------------\n",
            "chatbot_responses: ['User: Do you have science fiction books?\\n\\nStep 1: The user is asking about books, so we proceed to Step 2.\\n\\nStep 2: The user is asking about science fiction books, which are available in the book catalogue. We will provide the relevant information.\\n\\nResponse to the user: Yes, we have science fiction books available. The titles are \"Nebula\\'s Edge\" and \"Beyond Earth\\'s Echo.\" Would you like more details about any specific book?', 'User request: Do you have any illustrated book options?\\n\\nStep 1: The user is asking about book options, so we proceed to Step 2.\\n\\nStep 2: The book catalogue includes the following illustrated book options:\\n1. Book Title: The Little Blue Engine\\n2. Book Title: Sunflowers & Daydreams\\n\\nResponse to the user: Yes, we have illustrated book options available: \"The Little Blue Engine\" and \"Sunflowers & Daydreams.\"', 'User: How many different kinds of science fiction books do you have?\\n\\nStep 1: The user is asking a question related to a type of book.\\nStep 2: The user\\'s question is relevant to the book catalogue.\\nResponse to the user: We have two different kinds of science fiction books in our catalogue: \"Nebula\\'s Edge\" and \"Beyond Earth\\'s Echo.\"', 'Step 1: The user is asking a question related to a book.\\n\\nStep 2: The book \"Harry Potter\" is not in the book catalogue. Here is a list of available but similar book items:\\n1. The Little Blue Engine\\n2. Shadows Over Elm Street\\n3. The Venetian Masquerade\\n4. Moonlit Whispers\\n5. The Cafe by the Sea\\n6. Heartstrings in Tuscany\\n7. Nebula\\'s Edge\\n8. Beyond Earth\\'s Echo\\n9. Echoes of Midnight\\n10. Sunflowers & Daydreams\\n\\nResponse to the user: The book \"Harry Potter\" is not in the catalogue. Here is a list of available but similar book items.', 'Response to the user: The two most popular books in the catalogue are \"The Cafe by the Sea\" from the Romance Novels category and \"Echoes of Midnight\" from the Poetry Collections category.', 'User: Do you have any books under $7?\\n\\nStep 1: The user is asking about books, so we proceed to Step 2.\\n\\nStep 2: The user is asking for books under $7. The only book in the catalogue that meets this criteria is:\\nCategory: Children\\'s Books\\nBook Title: The Little Blue Engine\\nPrice: $6.99\\nIllustrated: Y\\nPopularity: 4/5\\nSummary: A brave little train takes on a challenging journey, teaching children about perseverance and self-belief.\\n\\nResponse to the user: Yes, we have a book under $7. It is \"The Little Blue Engine\" priced at $6.99. It is a children\\'s book illustrated and has a popularity rating of 4/5.', 'User request: Does any of your science fiction books contain alien characters?\\n\\nStep 1: The user is asking a question related to books.\\n\\nStep 2: The book catalogue contains the following science fiction books:\\n1. Book Title: Nebula\\'s Edge\\n2. Book Title: Beyond Earth\\'s Echo\\n\\nResponse to the user: Yes, the science fiction book \"Beyond Earth\\'s Echo\" from our catalogue contains alien characters.']\n",
            "------------------------\n",
            "final_response: Yes, the science fiction book \"Beyond Earth's Echo\" from our catalogue contains alien characters.\n",
            "------------------------\n"
          ]
        }
      ],
      "source": [
        "# View steps from above cell\n",
        "print(\"------------------------\")\n",
        "print(f\"question: {question}\")\n",
        "print(\"------------------------\")\n",
        "print(f\"messages: {messages}\")\n",
        "print(\"------------------------\")\n",
        "print(f\"response: {response}\")\n",
        "print(\"------------------------\")\n",
        "print(f\"chatbot_responses: {chatbot_responses}\")\n",
        "print(\"------------------------\")\n",
        "print(f\"final_response: {get_only_response(response)}\")\n",
        "print(\"------------------------\")"
      ]
    }
  ],
  "metadata": {
    "colab": {
      "provenance": []
    },
    "kernelspec": {
      "display_name": "llm_twin_env",
      "language": "python",
      "name": "python3"
    },
    "language_info": {
      "codemirror_mode": {
        "name": "ipython",
        "version": 3
      },
      "file_extension": ".py",
      "mimetype": "text/x-python",
      "name": "python",
      "nbconvert_exporter": "python",
      "pygments_lexer": "ipython3",
      "version": "3.11.11"
    },
    "orig_nbformat": 4
  },
  "nbformat": 4,
  "nbformat_minor": 0
}
