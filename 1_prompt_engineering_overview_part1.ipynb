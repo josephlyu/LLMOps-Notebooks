{
  "cells": [
    {
      "cell_type": "markdown",
      "metadata": {
        "id": "TW7yEtaWCUQL"
      },
      "source": [
        "# Overview of Prompt Engineering Techniques & Best Practices"
      ]
    },
    {
      "cell_type": "markdown",
      "metadata": {
        "id": "g8TD6U9JCUQO"
      },
      "source": [
        "## Part 1: Prompt Engineering Best Practices\n",
        "\n",
        "In this section, we provide an overview of the top tips and best practices for prompting LLMs."
      ]
    },
    {
      "cell_type": "markdown",
      "metadata": {
        "id": "byL1RG2UCUQO"
      },
      "source": [
        "---"
      ]
    },
    {
      "cell_type": "markdown",
      "metadata": {
        "id": "nMKUTILJCUQP"
      },
      "source": [
        "We first load the necessary libraries:"
      ]
    },
    {
      "cell_type": "code",
      "execution_count": 1,
      "metadata": {
        "id": "MlbaTUatCUQP"
      },
      "outputs": [],
      "source": [
        "import openai\n",
        "import os\n",
        "import IPython\n",
        "from dotenv import load_dotenv\n",
        "\n",
        "load_dotenv()\n",
        "\n",
        "# API configuration\n",
        "openai.api_key = os.getenv(\"OPENAI_API_KEY\")"
      ]
    },
    {
      "cell_type": "code",
      "execution_count": 27,
      "metadata": {
        "id": "F09KkfieCUQQ"
      },
      "outputs": [],
      "source": [
        "# completion function\n",
        "def get_completion(messages, model=\"gpt-3.5-turbo\", temperature=0, max_tokens=300):\n",
        "    response = openai.ChatCompletion.create(\n",
        "        model=model,\n",
        "        messages=messages,\n",
        "        temperature=temperature,\n",
        "        max_tokens=max_tokens,\n",
        "    )\n",
        "    return response.choices[0].message[\"content\"]"
      ]
    },
    {
      "cell_type": "markdown",
      "metadata": {
        "id": "pWBwLW6kCUQR"
      },
      "source": [
        "### Be Specific and Clear"
      ]
    },
    {
      "cell_type": "markdown",
      "metadata": {
        "id": "NfhCFzCOCUQR"
      },
      "source": [
        "Write instructions as clear and specific as possible to get the desired LLM behaviors:"
      ]
    },
    {
      "cell_type": "code",
      "execution_count": 28,
      "metadata": {
        "colab": {
          "base_uri": "https://localhost:8080/",
          "height": 365
        },
        "id": "vUWyqyT9CUQR",
        "outputId": "70d19aff-f2a4-4024-cec6-ff494d08934c"
      },
      "outputs": [
        {
          "name": "stdout",
          "output_type": "stream",
          "text": [
            "Sorry, couldn't find a movie to recommend today.\n"
          ]
        }
      ],
      "source": [
        "global_trending_movies = [\"The Suicide Squad\", \"No Time to Die\", \"Dune\",  \"Spider-Man: No Way Home\", \"The French Dispatch\", \"Black Widow\", \"Eternals\", \"The Matrix Resurrections\", \"West Side Story\", \"The Many Saints of Newark\"]\n",
        "\n",
        "system_message = \"\"\"\n",
        "Your task is to recommend movies to a customer.\n",
        "\n",
        "You are responsible to recommend a movie from the top global trending movies from {global_trending_movies}.\n",
        "\n",
        "You should refrain from asking users for their preferences and avoid asking for personal information.\n",
        "\n",
        "If you don't have a movie to recommend or don't know the user interests, you should respond \"Sorry, couldn't find a movie to recommend today.\".\n",
        "\"\"\"\n",
        "\n",
        "user_request = \"\"\"\n",
        "Please recommend a movie based on my interests.\n",
        "\"\"\"\n",
        "\n",
        "message = [\n",
        "    {\n",
        "        \"role\": \"system\",\n",
        "        \"content\": system_message.format(global_trending_movies=global_trending_movies)\n",
        "    },\n",
        "    {\n",
        "        \"role\": \"user\",\n",
        "        \"content\": user_request\n",
        "    }\n",
        "]\n",
        "\n",
        "response = get_completion(message)\n",
        "print(response)"
      ]
    },
    {
      "cell_type": "markdown",
      "metadata": {
        "id": "b6hb7537CUQS"
      },
      "source": [
        "The more specific the desired the behavior you want from the model, the more specific the instructions and logic should be. Below is an example where the customer provides information about interests:"
      ]
    },
    {
      "cell_type": "code",
      "execution_count": 38,
      "metadata": {
        "colab": {
          "base_uri": "https://localhost:8080/",
          "height": 365
        },
        "id": "d1sfCPwKCUQT",
        "outputId": "50f7279b-7415-46d4-a70c-8b3bf98160f5"
      },
      "outputs": [
        {
          "name": "stdout",
          "output_type": "stream",
          "text": [
            "Based on your interest in super-hero movies, I recommend \"Spider-Man: No Way Home\" from the list of top global trending movies. It features Spider-Man and other iconic characters from the Marvel universe. Enjoy watching!\n"
          ]
        }
      ],
      "source": [
        "global_trending_movies = [\"The Suicide Squad\", \"No Time to Die\", \"Dune\",  \"Spider-Man: No Way Home\", \"The French Dispatch\", \"Black Widow\", \"Eternals\", \"The Matrix Resurrections\", \"West Side Story\", \"The Many Saints of Newark\"]\n",
        "\n",
        "system_message = \"\"\"\n",
        "Your task is to recommends movies to a customer.\n",
        "\n",
        "You are responsible to recommend a movie from the top global trending movies from {global_trending_movies}.\n",
        "\n",
        "You should refrain from asking users for their preferences and avoid asking for personal information.\n",
        "\n",
        "Find the most relevant movie based on user interest. \n",
        "\n",
        "If you don't have a movie to recommend or don't know the user interests, you should respond \"Sorry, couldn't find a movie to recommend today.\".\n",
        "\"\"\"\n",
        "\n",
        "user_request = \"\"\"\n",
        "I love super-hero movies. Please recommend a movie based on my interests.\n",
        "\"\"\"\n",
        "\n",
        "message = [\n",
        "    {\n",
        "        \"role\": \"system\",\n",
        "        \"content\": system_message.format(global_trending_movies=global_trending_movies)\n",
        "    },\n",
        "    {\n",
        "        \"role\": \"user\",\n",
        "        \"content\": user_request\n",
        "    }\n",
        "]\n",
        "\n",
        "response = get_completion(message)\n",
        "print(response)"
      ]
    },
    {
      "cell_type": "markdown",
      "metadata": {
        "id": "6IZtFaB9CUQT"
      },
      "source": [
        "### Add Delimiters\n",
        "\n",
        "Adding delimiters help to better structure instructions and the overall prompt components. This is beneficial to get more reliable responses."
      ]
    },
    {
      "cell_type": "code",
      "execution_count": 35,
      "metadata": {
        "id": "Gy8_gFBnCUQU"
      },
      "outputs": [
        {
          "data": {
            "text/markdown": [
              "```python```python\n",
              "strings2.append(\"one\")\n",
              "strings2.append(\"two\")\n",
              "strings2.append(\"THREE\")\n",
              "strings2.append(\"4\")\n",
              "```\n",
              "```"
            ],
            "text/plain": [
              "<IPython.core.display.Markdown object>"
            ]
          },
          "execution_count": 35,
          "metadata": {},
          "output_type": "execute_result"
        }
      ],
      "source": [
        "prompt = \"\"\"\n",
        "Convert the following code block in the #### <code> #### section to Python:\n",
        "\n",
        "####\n",
        "strings2.push(\"one\")\n",
        "strings2.push(\"two\")\n",
        "strings2.push(\"THREE\")\n",
        "strings2.push(\"4\")\n",
        "####\n",
        "\"\"\"\n",
        "\n",
        "message = [\n",
        "    {\n",
        "        \"role\": \"user\",\n",
        "        \"content\": prompt\n",
        "    }\n",
        "]\n",
        "\n",
        "IPython.display.Markdown(\"```python\" + get_completion(message) + \"\\n```\")"
      ]
    },
    {
      "cell_type": "markdown",
      "metadata": {
        "id": "leL09Rl1CUQU"
      },
      "source": [
        "### Specify Output Format\n",
        "\n",
        "If the format of prompt responses are important, then this should be explicitly stated in the prompt to get desired results. In the example, we would like to export the results as a JSON object."
      ]
    },
    {
      "cell_type": "code",
      "execution_count": 39,
      "metadata": {
        "id": "9FBIuxnKCUQU"
      },
      "outputs": [
        {
          "name": "stdout",
          "output_type": "stream",
          "text": [
            "{\n",
            "    \"product_name\": \"Nike Air Max 270 React\",\n",
            "    \"product_brand\": \"Nike\"\n",
            "}\n"
          ]
        }
      ],
      "source": [
        "prompt = \"\"\"\n",
        "Your task is: given a product description, return the requested information in the section delimited by ### ###. Format the output as a JSON object.\n",
        "\n",
        "Product Description: Introducing the Nike Air Max 270 React: a comfortable and stylish sneaker that combines two of Nike's best technologies. With a sleek black design and a unique bubble sole, these shoes are perfect for everyday wear.\n",
        "\n",
        "###\n",
        "product_name: the name of the product\n",
        "product_brand: the name of the brand (if any)\n",
        "###\n",
        "\"\"\"\n",
        "\n",
        "message = [\n",
        "    {\n",
        "        \"role\": \"user\",\n",
        "        \"content\": prompt\n",
        "    }\n",
        "]\n",
        "\n",
        "print(get_completion(message))"
      ]
    },
    {
      "cell_type": "markdown",
      "metadata": {
        "id": "V8XnZQ3kCUQU"
      },
      "source": [
        "### Think Step by Step\n",
        "\n",
        "To elicit reasoning in LLMs, you can prompt the model to think step-by-step. Prompting the model in this way allows it to provide the details steps before providing a final response that solves the problem."
      ]
    },
    {
      "cell_type": "code",
      "execution_count": 40,
      "metadata": {
        "id": "uKQz73H8CUQV"
      },
      "outputs": [
        {
          "name": "stdout",
          "output_type": "stream",
          "text": [
            "The odd numbers in the group are 15, 5, 13, 7, and 1. \n",
            "\n",
            "Adding them together: 15 + 5 + 13 + 7 + 1 = 41\n",
            "\n",
            "41 is an odd number.\n"
          ]
        }
      ],
      "source": [
        "prompt = \"\"\"The odd numbers in this group add up to an even number: 15, 32, 5, 13, 82, 7, 1.\n",
        "\n",
        "Solve by breaking the problem into steps. First, identify the odd numbers, add them, and indicate whether the result is odd or even.\"\"\"\n",
        "\n",
        "messages = [\n",
        "    {\n",
        "        \"role\": \"system\",\n",
        "        \"content\": prompt\n",
        "    }\n",
        "]\n",
        "\n",
        "response= get_completion(messages)\n",
        "\n",
        "print(response)"
      ]
    },
    {
      "cell_type": "markdown",
      "metadata": {
        "id": "YYyOpLGuCUQV"
      },
      "source": [
        "### Role Playing\n",
        "\n",
        "The example below shows how to apply role playing using a chat model like GPT-3.5 Turbo. Notice the use of system message, user message, and assistant message in the example. You can combine different messages to mimic or jump start the behavior you want or expect from the model."
      ]
    },
    {
      "cell_type": "code",
      "execution_count": 46,
      "metadata": {
        "id": "FrXEZb-MCUQV"
      },
      "outputs": [
        {
          "name": "stdout",
          "output_type": "stream",
          "text": [
            "Black holes are formed when massive stars exhaust their nuclear fuel and undergo a supernova explosion. If the core of the star is massive enough, it collapses under its own gravity, forming a singularity - a point of infinite density. This singularity is surrounded by an event horizon, beyond which nothing, not even light, can escape. This creates a region of spacetime from which no information can reach an outside observer, leading to the formation of a black hole.\n"
          ]
        }
      ],
      "source": [
        "system_message = \"\"\"\n",
        "The following is a conversation with an AI research assistant. The assistant tone is technical and scientific.\n",
        "\"\"\"\n",
        "\n",
        "user_message_1 = \"\"\"\n",
        "Hello, who are you?\n",
        "\"\"\"\n",
        "\n",
        "ai_message_1 = \"\"\"\n",
        "Greeting! I am an AI research assistant. How can I help you today?\n",
        "\"\"\"\n",
        "\n",
        "prompt = \"\"\"\n",
        "Human: Can you tell me about the creation of blackholes?\n",
        "AI:\n",
        "\"\"\"\n",
        "\n",
        "messages = [\n",
        "    {\n",
        "        \"role\": \"system\",\n",
        "        \"content\": system_message\n",
        "    },\n",
        "    {\n",
        "        \"role\": \"user\",\n",
        "        \"content\": user_message_1\n",
        "    },\n",
        "    {\n",
        "        \"role\": \"assistant\",\n",
        "        \"content\": ai_message_1\n",
        "\n",
        "    },\n",
        "    {\n",
        "        \"role\": \"user\",\n",
        "        \"content\": prompt\n",
        "    }\n",
        "]\n",
        "\n",
        "response = get_completion(messages)\n",
        "print(response)"
      ]
    }
  ],
  "metadata": {
    "colab": {
      "provenance": [],
      "toc_visible": true
    },
    "kernelspec": {
      "display_name": "llm_twin_env",
      "language": "python",
      "name": "python3"
    },
    "language_info": {
      "codemirror_mode": {
        "name": "ipython",
        "version": 3
      },
      "file_extension": ".py",
      "mimetype": "text/x-python",
      "name": "python",
      "nbconvert_exporter": "python",
      "pygments_lexer": "ipython3",
      "version": "3.11.11"
    },
    "orig_nbformat": 4
  },
  "nbformat": 4,
  "nbformat_minor": 0
}
